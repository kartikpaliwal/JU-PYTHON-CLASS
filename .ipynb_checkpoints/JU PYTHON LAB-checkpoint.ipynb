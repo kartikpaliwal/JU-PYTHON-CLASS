{
 "cells": [
  {
   "cell_type": "markdown",
   "metadata": {},
   "source": [
    "<H1><I>JU CLASSES OF PYTHON<I></H1> \n",
    "    <BR>\n",
    "       "
   ]
  },
  {
   "cell_type": "markdown",
   "metadata": {},
   "source": [
    " <H6>PYTHON FIRST LAB</H6>"
   ]
  },
  {
   "cell_type": "code",
   "execution_count": 12,
   "metadata": {},
   "outputs": [],
   "source": [
    "#Libraries \n",
    "\n",
    "import numpy as nP\n",
    "import calendar"
   ]
  },
  {
   "cell_type": "code",
   "execution_count": 13,
   "metadata": {},
   "outputs": [
    {
     "name": "stdout",
     "output_type": "stream",
     "text": [
      "Enter the radius of circle: 34\n"
     ]
    },
    {
     "data": {
      "text/plain": [
       "213.62830044410595"
      ]
     },
     "execution_count": 13,
     "metadata": {},
     "output_type": "execute_result"
    }
   ],
   "source": [
    "# Area of circle\n",
    "\n",
    "radiuS = int(input(\"Enter the radius of circle: \"))\n",
    "areA = 2*radiuS*nP.pi\n",
    "areA"
   ]
  },
  {
   "cell_type": "code",
   "execution_count": 14,
   "metadata": {},
   "outputs": [
    {
     "name": "stdout",
     "output_type": "stream",
     "text": [
      "Enter the year:2019\n",
      "Enter the month:01\n",
      "    January 2019\n",
      "Mo Tu We Th Fr Sa Su\n",
      "    1  2  3  4  5  6\n",
      " 7  8  9 10 11 12 13\n",
      "14 15 16 17 18 19 20\n",
      "21 22 23 24 25 26 27\n",
      "28 29 30 31\n",
      "\n"
     ]
    }
   ],
   "source": [
    "# Print cal of particuilar month\n",
    "\n",
    "yeaR = int(input(\"Enter the year:\"))\n",
    "montH = int(input(\"Enter the month:\"))   \n",
    "print(calendar.month(yeaR,montH))"
   ]
  },
  {
   "cell_type": "code",
   "execution_count": 15,
   "metadata": {},
   "outputs": [
    {
     "name": "stdout",
     "output_type": "stream",
     "text": [
      "Enter the year:2019\n",
      "                                  2019\n",
      "\n",
      "      January                   February                   March\n",
      "Mo Tu We Th Fr Sa Su      Mo Tu We Th Fr Sa Su      Mo Tu We Th Fr Sa Su\n",
      "    1  2  3  4  5  6                   1  2  3                   1  2  3\n",
      " 7  8  9 10 11 12 13       4  5  6  7  8  9 10       4  5  6  7  8  9 10\n",
      "14 15 16 17 18 19 20      11 12 13 14 15 16 17      11 12 13 14 15 16 17\n",
      "21 22 23 24 25 26 27      18 19 20 21 22 23 24      18 19 20 21 22 23 24\n",
      "28 29 30 31               25 26 27 28               25 26 27 28 29 30 31\n",
      "\n",
      "       April                      May                       June\n",
      "Mo Tu We Th Fr Sa Su      Mo Tu We Th Fr Sa Su      Mo Tu We Th Fr Sa Su\n",
      " 1  2  3  4  5  6  7             1  2  3  4  5                      1  2\n",
      " 8  9 10 11 12 13 14       6  7  8  9 10 11 12       3  4  5  6  7  8  9\n",
      "15 16 17 18 19 20 21      13 14 15 16 17 18 19      10 11 12 13 14 15 16\n",
      "22 23 24 25 26 27 28      20 21 22 23 24 25 26      17 18 19 20 21 22 23\n",
      "29 30                     27 28 29 30 31            24 25 26 27 28 29 30\n",
      "\n",
      "        July                     August                  September\n",
      "Mo Tu We Th Fr Sa Su      Mo Tu We Th Fr Sa Su      Mo Tu We Th Fr Sa Su\n",
      " 1  2  3  4  5  6  7                1  2  3  4                         1\n",
      " 8  9 10 11 12 13 14       5  6  7  8  9 10 11       2  3  4  5  6  7  8\n",
      "15 16 17 18 19 20 21      12 13 14 15 16 17 18       9 10 11 12 13 14 15\n",
      "22 23 24 25 26 27 28      19 20 21 22 23 24 25      16 17 18 19 20 21 22\n",
      "29 30 31                  26 27 28 29 30 31         23 24 25 26 27 28 29\n",
      "                                                    30\n",
      "\n",
      "      October                   November                  December\n",
      "Mo Tu We Th Fr Sa Su      Mo Tu We Th Fr Sa Su      Mo Tu We Th Fr Sa Su\n",
      "    1  2  3  4  5  6                   1  2  3                         1\n",
      " 7  8  9 10 11 12 13       4  5  6  7  8  9 10       2  3  4  5  6  7  8\n",
      "14 15 16 17 18 19 20      11 12 13 14 15 16 17       9 10 11 12 13 14 15\n",
      "21 22 23 24 25 26 27      18 19 20 21 22 23 24      16 17 18 19 20 21 22\n",
      "28 29 30 31               25 26 27 28 29 30         23 24 25 26 27 28 29\n",
      "                                                    30 31\n",
      "\n"
     ]
    }
   ],
   "source": [
    "# Print annual calander\n",
    "\n",
    "yeaR = int(input(\"Enter the year:\"))\n",
    "print(calendar.calendar(yeaR))"
   ]
  },
  {
   "cell_type": "code",
   "execution_count": 16,
   "metadata": {},
   "outputs": [
    {
     "name": "stdout",
     "output_type": "stream",
     "text": [
      "Enter the Number36\n",
      "6.0\n"
     ]
    }
   ],
   "source": [
    "# Squareroot of a particular number\n",
    "\n",
    "numbeR = (int(input(\"Enter the Number\")))\n",
    "sqrT = (numbeR)**(0.5)\n",
    "print(sqrT)"
   ]
  },
  {
   "cell_type": "code",
   "execution_count": 17,
   "metadata": {},
   "outputs": [
    {
     "name": "stdout",
     "output_type": "stream",
     "text": [
      "Enter the Number24\n",
      "Number is even\n"
     ]
    }
   ],
   "source": [
    "# Check a numebr is even or odd\n",
    "\n",
    "nuM = (int(input(\"Enter the Number\")))\n",
    "if(nuM %2 == 0):\n",
    "    print(\"Number is even\")\n",
    "else:\n",
    "    print(\"Number is odd\")"
   ]
  },
  {
   "cell_type": "code",
   "execution_count": 18,
   "metadata": {},
   "outputs": [
    {
     "name": "stdout",
     "output_type": "stream",
     "text": [
      "Enter the Number342\n",
      "Num is Positive\n"
     ]
    }
   ],
   "source": [
    "# Check a number is zero or positive or negative\n",
    "\n",
    "nuM = (int(input(\"Enter the Number\")))\n",
    "if (nuM >= 0):\n",
    "    if(nuM == 0):\n",
    "        print(\"Num is zero\")\n",
    "    else:\n",
    "        print(\"Num is Positive\")\n",
    "else:\n",
    "    print(\"Num is Negative\")"
   ]
  },
  {
   "cell_type": "code",
   "execution_count": 23,
   "metadata": {},
   "outputs": [
    {
     "name": "stdout",
     "output_type": "stream",
     "text": [
      "Enter the first operand9999\n",
      "Enter the second operand050397\n",
      "Enter the operatioN Number1\n",
      "60396\n"
     ]
    }
   ],
   "source": [
    "# Calculator using if,else,elif\n",
    "\n",
    "firsToperanD= (int(input(\"Enter the first operand\")))\n",
    "seconDoperanD = (int(input(\"Enter the second operand\")))\n",
    "operatioN = (int(input(\"Enter the operatioN Number\")))\n",
    "\"\"\"\n",
    "1 for add\n",
    "2 for sub\n",
    "3 for mul\n",
    "4 for divide\n",
    "\"\"\"\n",
    "\n",
    "if(operatioN == 1):\n",
    "    answeR = firsToperanD +seconDoperanD\n",
    "elif(operatioN == 2):\n",
    "    answeR = firsToperanD -seconDoperanD\n",
    "elif(operatioN == 3):\n",
    "    answeR = firsToperanD *seconDoperanD\n",
    "elif(operatioN == 4):\n",
    "    answeR = float(firsToperanD /seconDoperanD)\n",
    "else:\n",
    "    answeR = (\"Wrong number Entered!!\")\n",
    "print(answeR)\n"
   ]
  },
  {
   "cell_type": "code",
   "execution_count": 24,
   "metadata": {},
   "outputs": [
    {
     "name": "stdout",
     "output_type": "stream",
     "text": [
      "Enter the Number:  12\n",
      "Enter the Number:  32\n",
      "Enter the Number:  2\n",
      "     32 :b is greatest\n"
     ]
    }
   ],
   "source": [
    "# Greatest number among 3\n",
    "\n",
    "a = (int(input(\"Enter the Number:  \")))\n",
    "b = (int(input(\"Enter the Number:  \")))\n",
    "c = (int(input(\"Enter the Number:  \")))\n",
    "\n",
    "if(a > b and a > c):\n",
    "    print(\"    \",a, \":a is greatest\")\n",
    "elif(b > a and b > c):\n",
    "    print(\"    \",b, \":b is greatest\")\n",
    "else:\n",
    "    print(\"    \",c, \":c is greatest\")"
   ]
  },
  {
   "cell_type": "markdown",
   "metadata": {},
   "source": [
    " <H6>PYTHON SECOND LAB</H6>"
   ]
  },
  {
   "cell_type": "code",
   "execution_count": 26,
   "metadata": {},
   "outputs": [
    {
     "name": "stdout",
     "output_type": "stream",
     "text": [
      "Enter the number of elements in list3\n",
      "Enter the Number23\n",
      "Enter the Number3\n",
      "Enter the Number2\n",
      "List is:  [23, 3, 2]\n",
      "Sum with for loop:  28\n",
      "Vectorized sum by library:  28\n"
     ]
    }
   ],
   "source": [
    "#create a list and print the sum of all the element of list\n",
    "\n",
    "elemenTcounT = (int(input(\"Enter the number of elements in list\")))\n",
    "mylisT = []*elemenTcounT\n",
    "\n",
    "for i in range(0,elemenTcounT):\n",
    "    takEvaL = (int(input(\"Enter the Number\")))\n",
    "    mylisT.append(takEvaL)\n",
    "print(\"List is: \",mylisT)    \n",
    "\n",
    "count = 0 \n",
    "for var in mylisT:\n",
    "    count = var + count\n",
    "    \n",
    "print(\"Sum with for loop: \",count)\n",
    "print(\"Vectorized sum by library: \",nP.sum(mylisT))"
   ]
  },
  {
   "cell_type": "code",
   "execution_count": 27,
   "metadata": {},
   "outputs": [
    {
     "name": "stdout",
     "output_type": "stream",
     "text": [
      "Enter the number of elements in list6\n",
      "Enter the Number45\n",
      "Enter the Number4\n",
      "Enter the Number3\n",
      "Enter the Number24\n",
      "Enter the Number5\n",
      "Enter the Number56\n",
      "List is:  [45, 4, 3, 24, 5, 56]\n",
      "Even numbers: [4, 24, 56]\n",
      "Odd numbers: [45, 3, 5]\n",
      "no of odd =  3\n",
      "no of even =  3\n"
     ]
    }
   ],
   "source": [
    "#### count no. of odd and even item of list\n",
    "\n",
    "elemenTcounT = (int(input(\"Enter the number of elements in list\")))\n",
    "mylisT = []*elemenTcounT\n",
    "\n",
    "for i in range(0,elemenTcounT):\n",
    "    takEvaL = (int(input(\"Enter the Number\")))\n",
    "    mylisT.append(takEvaL)\n",
    "print(\"List is: \",mylisT)\n",
    "\n",
    "\n",
    "eveN = list(filter(lambda x: (x%2 == 0) , mylisT)) \n",
    "odD = list(filter(lambda x: (x%2 != 0) , mylisT)) \n",
    "print(\"Even numbers:\",eveN)\n",
    "print(\"Odd numbers:\",odD)\n",
    "print(\"no of odd = \",len(odD))\n",
    "print(\"no of even = \",len(eveN))"
   ]
  },
  {
   "cell_type": "code",
   "execution_count": 28,
   "metadata": {},
   "outputs": [
    {
     "name": "stdout",
     "output_type": "stream",
     "text": [
      "Enter the number of elements in list4\n",
      "Enter the Number23\n",
      "Enter the Number14\n",
      "Enter the Number11\n",
      "Enter the Number12\n",
      "List is:  [23, 14, 11, 12]\n",
      "[23, 11]\n"
     ]
    }
   ],
   "source": [
    "#### check weathe a given number is sort of prime or not and get those numbers out of list\n",
    "\n",
    "elemenTcounT = (int(input(\"Enter the number of elements in list\")))\n",
    "mylisT = []*elemenTcounT\n",
    "\n",
    "for i in range(0,elemenTcounT):\n",
    "    takEvaL = (int(input(\"Enter the Number\")))\n",
    "    mylisT.append(takEvaL)\n",
    "print(\"List is: \",mylisT)\n",
    "\n",
    "primE = list(filter(lambda x: ((x%2 == 0 or x%3 == 0 or x%5 == 0 or x%7 == 0) == False) , mylisT))\n",
    "print(primE)"
   ]
  },
  {
   "cell_type": "code",
   "execution_count": 29,
   "metadata": {},
   "outputs": [
    {
     "name": "stdout",
     "output_type": "stream",
     "text": [
      "Enter the floor Number: 3\n",
      "Enter the ciel Number: 34\n",
      "[3, 4, 5, 6, 7, 8, 9, 10, 11, 12, 13, 14, 15, 16, 17, 18, 19, 20, 21, 22, 23, 24, 25, 26, 27, 28, 29, 30, 31, 32, 33]\n",
      "[11, 13, 17, 19, 23, 29, 31]\n"
     ]
    }
   ],
   "source": [
    "#### take floor and ciel value  for a list and find prime in between them\n",
    "'''number should be greater then 7'''\n",
    "\n",
    "flooR = (int(input(\"Enter the floor Number: \")))\n",
    "cieL = (int(input(\"Enter the ciel Number: \")))\n",
    "reQlisT = [i for i in range(flooR,cieL)]\n",
    "print(reQlisT)\n",
    "# num = (int(input(\"Enter the Number\")))\n",
    "primE = list(filter(lambda x: ((x%2 == 0 or x%3 == 0 or x%5 == 0 or x%7 == 0) == False) , reQlisT))\n",
    "print(primE)"
   ]
  },
  {
   "cell_type": "markdown",
   "metadata": {},
   "source": [
    " <H6>PYTHON Third LAB</H6>"
   ]
  },
  {
   "cell_type": "code",
   "execution_count": 1,
   "metadata": {},
   "outputs": [],
   "source": [
    "yo = \"Welcome , how are you?\""
   ]
  },
  {
   "cell_type": "code",
   "execution_count": 6,
   "metadata": {},
   "outputs": [
    {
     "name": "stdout",
     "output_type": "stream",
     "text": [
      "Welcome\n",
      "come , how are you?\n",
      "come , \n",
      "cm  o \n",
      "are you\n",
      "?uoy era woh , emocleW\n"
     ]
    }
   ],
   "source": [
    "print(yo [:7])\n",
    "print(yo[3:])\n",
    "print(yo[3:10])\n",
    "print(yo[3:15:2])\n",
    "print(yo[-8:-1])\n",
    "print(yo[::-1])"
   ]
  },
  {
   "cell_type": "code",
   "execution_count": 35,
   "metadata": {},
   "outputs": [
    {
     "name": "stdout",
     "output_type": "stream",
     "text": [
      "Enter the file name:KARTIK.C\n",
      ".\n",
      "C\n"
     ]
    }
   ],
   "source": [
    "#file input and print extension of it\n",
    "\n",
    "file = str(input(\"Enter the file name:\"))\n",
    "for i in range(file.index('.'),len(file)):\n",
    "            print(file[i])"
   ]
  },
  {
   "cell_type": "code",
   "execution_count": 4,
   "metadata": {},
   "outputs": [
    {
     "name": "stdout",
     "output_type": "stream",
     "text": [
      "Enter the stringdhsvkjbjfdk\n",
      "Dhsvkjbjfdk capitalize\n",
      "True :isalnum\n",
      "True :isalpha\n",
      "False :isdigit\n",
      "True :islower\n",
      "False :isspace\n",
      "False :isupper\n"
     ]
    }
   ],
   "source": [
    "#perform opereation in string:\n",
    "\n",
    "a = str(input(\"Enter the string\"))\n",
    "print(a.capitalize(), \"capitalize\")\n",
    "print(a.isalnum(), \":isalnum\")\n",
    "print(a.isalpha(), \":isalpha\")\n",
    "print(a.isdigit(), \":isdigit\")\n",
    "print(a.islower(), \":islower\")\n",
    "print(a.isspace(), \":isspace\")\n",
    "print(a.isupper(), \":isupper\")\n"
   ]
  },
  {
   "cell_type": "markdown",
   "metadata": {},
   "source": [
    " <H6>PYTHON THIRD LAB</H6>"
   ]
  },
  {
   "cell_type": "code",
   "execution_count": 9,
   "metadata": {},
   "outputs": [],
   "source": [
    "#take evev number out of a list of 1 to 20 using filter , map , reduce using lambda f(x)\n",
    "\n",
    "li = [ x for x in range(0,20)]"
   ]
  },
  {
   "cell_type": "code",
   "execution_count": 19,
   "metadata": {},
   "outputs": [],
   "source": [
    "evlist = list(filter(lambda x: x%2 == 0,li))"
   ]
  },
  {
   "cell_type": "code",
   "execution_count": 20,
   "metadata": {},
   "outputs": [
    {
     "data": {
      "text/plain": [
       "[0, 2, 4, 6, 8, 10, 12, 14, 16, 18]"
      ]
     },
     "execution_count": 20,
     "metadata": {},
     "output_type": "execute_result"
    }
   ],
   "source": [
    "evlist"
   ]
  },
  {
   "cell_type": "code",
   "execution_count": null,
   "metadata": {},
   "outputs": [],
   "source": []
  }
 ],
 "metadata": {
  "kernelspec": {
   "display_name": "Python 3",
   "language": "python",
   "name": "python3"
  },
  "language_info": {
   "codemirror_mode": {
    "name": "ipython",
    "version": 3
   },
   "file_extension": ".py",
   "mimetype": "text/x-python",
   "name": "python",
   "nbconvert_exporter": "python",
   "pygments_lexer": "ipython3",
   "version": "3.7.1"
  }
 },
 "nbformat": 4,
 "nbformat_minor": 2
}
