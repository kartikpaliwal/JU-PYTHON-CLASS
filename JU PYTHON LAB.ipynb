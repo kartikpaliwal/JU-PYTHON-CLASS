{
 "cells": [
  {
   "cell_type": "markdown",
   "metadata": {},
   "source": [
    "<H1><I>JU CLASSES OF PYTHON<I></H1> \n",
    "    <BR>\n",
    "       "
   ]
  },
  {
   "cell_type": "markdown",
   "metadata": {},
   "source": [
    " <H6>PYTHON FIRST LAB</H6>"
   ]
  },
  {
   "cell_type": "code",
   "execution_count": 1,
   "metadata": {},
   "outputs": [],
   "source": [
    "#Libraries \n",
    "\n",
    "import numpy as np\n",
    "import calendar"
   ]
  },
  {
   "cell_type": "code",
   "execution_count": 2,
   "metadata": {
    "collapsed": true
   },
   "outputs": [
    {
     "name": "stdout",
     "output_type": "stream",
     "text": [
      "Enter the radius of circle23\n"
     ]
    },
    {
     "data": {
      "text/plain": [
       "144.51326206513048"
      ]
     },
     "execution_count": 2,
     "metadata": {},
     "output_type": "execute_result"
    }
   ],
   "source": [
    "# Area of circle\n",
    "\n",
    "radius = int(input(\"Enter the radius of circle\"))\n",
    "area = 2*radius*np.pi\n",
    "area"
   ]
  },
  {
   "cell_type": "code",
   "execution_count": 3,
   "metadata": {
    "collapsed": true
   },
   "outputs": [
    {
     "name": "stdout",
     "output_type": "stream",
     "text": [
      ":Enter the year:2101\n",
      ":Enter the month:2\n",
      "   February 2101\n",
      "Mo Tu We Th Fr Sa Su\n",
      "    1  2  3  4  5  6\n",
      " 7  8  9 10 11 12 13\n",
      "14 15 16 17 18 19 20\n",
      "21 22 23 24 25 26 27\n",
      "28\n",
      "\n"
     ]
    }
   ],
   "source": [
    "# Print cal of particuilar month\n",
    "\n",
    "year = int(input(\":Enter the year:\"))\n",
    "month = int(input(\":Enter the month:\"))   \n",
    "print(calendar.month(year,month))"
   ]
  },
  {
   "cell_type": "code",
   "execution_count": 4,
   "metadata": {
    "collapsed": true
   },
   "outputs": [
    {
     "name": "stdout",
     "output_type": "stream",
     "text": [
      ":Enter the year:1332\n",
      "                                  1332\n",
      "\n",
      "      January                   February                   March\n",
      "Mo Tu We Th Fr Sa Su      Mo Tu We Th Fr Sa Su      Mo Tu We Th Fr Sa Su\n",
      "    1  2  3  4  5  6                   1  2  3                      1  2\n",
      " 7  8  9 10 11 12 13       4  5  6  7  8  9 10       3  4  5  6  7  8  9\n",
      "14 15 16 17 18 19 20      11 12 13 14 15 16 17      10 11 12 13 14 15 16\n",
      "21 22 23 24 25 26 27      18 19 20 21 22 23 24      17 18 19 20 21 22 23\n",
      "28 29 30 31               25 26 27 28 29            24 25 26 27 28 29 30\n",
      "                                                    31\n",
      "\n",
      "       April                      May                       June\n",
      "Mo Tu We Th Fr Sa Su      Mo Tu We Th Fr Sa Su      Mo Tu We Th Fr Sa Su\n",
      "    1  2  3  4  5  6                1  2  3  4                         1\n",
      " 7  8  9 10 11 12 13       5  6  7  8  9 10 11       2  3  4  5  6  7  8\n",
      "14 15 16 17 18 19 20      12 13 14 15 16 17 18       9 10 11 12 13 14 15\n",
      "21 22 23 24 25 26 27      19 20 21 22 23 24 25      16 17 18 19 20 21 22\n",
      "28 29 30                  26 27 28 29 30 31         23 24 25 26 27 28 29\n",
      "                                                    30\n",
      "\n",
      "        July                     August                  September\n",
      "Mo Tu We Th Fr Sa Su      Mo Tu We Th Fr Sa Su      Mo Tu We Th Fr Sa Su\n",
      "    1  2  3  4  5  6                   1  2  3       1  2  3  4  5  6  7\n",
      " 7  8  9 10 11 12 13       4  5  6  7  8  9 10       8  9 10 11 12 13 14\n",
      "14 15 16 17 18 19 20      11 12 13 14 15 16 17      15 16 17 18 19 20 21\n",
      "21 22 23 24 25 26 27      18 19 20 21 22 23 24      22 23 24 25 26 27 28\n",
      "28 29 30 31               25 26 27 28 29 30 31      29 30\n",
      "\n",
      "      October                   November                  December\n",
      "Mo Tu We Th Fr Sa Su      Mo Tu We Th Fr Sa Su      Mo Tu We Th Fr Sa Su\n",
      "       1  2  3  4  5                      1  2       1  2  3  4  5  6  7\n",
      " 6  7  8  9 10 11 12       3  4  5  6  7  8  9       8  9 10 11 12 13 14\n",
      "13 14 15 16 17 18 19      10 11 12 13 14 15 16      15 16 17 18 19 20 21\n",
      "20 21 22 23 24 25 26      17 18 19 20 21 22 23      22 23 24 25 26 27 28\n",
      "27 28 29 30 31            24 25 26 27 28 29 30      29 30 31\n",
      "\n"
     ]
    }
   ],
   "source": [
    "# Print annual calander\n",
    "\n",
    "year = int(input(\":Enter the year:\"))\n",
    "print(calendar.calendar(year))"
   ]
  },
  {
   "cell_type": "code",
   "execution_count": 80,
   "metadata": {
    "collapsed": true
   },
   "outputs": [
    {
     "name": "stdout",
     "output_type": "stream",
     "text": [
      "Enter the Number34343434\n",
      "5860.327123975248\n"
     ]
    }
   ],
   "source": [
    "# Squareroot of a particular number\n",
    "\n",
    "number = (int(input(\"Enter the Number\")))\n",
    "sqrt = (number)**(0.5)\n",
    "print(sqrt)"
   ]
  },
  {
   "cell_type": "code",
   "execution_count": 58,
   "metadata": {
    "collapsed": true
   },
   "outputs": [
    {
     "name": "stdout",
     "output_type": "stream",
     "text": [
      "Enter the Number4\n",
      "Number is even\n"
     ]
    }
   ],
   "source": [
    "# Check a numebr is even or odd\n",
    "\n",
    "num = (int(input(\"Enter the Number\")))\n",
    "if(num %2 == 0):\n",
    "    print(\"Number is even\")\n",
    "else:\n",
    "    print(\"Number is odd\")"
   ]
  },
  {
   "cell_type": "code",
   "execution_count": 59,
   "metadata": {
    "collapsed": true
   },
   "outputs": [
    {
     "name": "stdout",
     "output_type": "stream",
     "text": [
      "Num is Positive\n"
     ]
    }
   ],
   "source": [
    "# Check a number is zero or positive or negative\n",
    "\n",
    "num = (int(input(\"Enter the Number\")))\n",
    "if (num >= 0):\n",
    "    if(num == 0):\n",
    "        print(\"Num is zero\")\n",
    "    else:\n",
    "        print(\"Num is Positive\")\n",
    "else:\n",
    "    print(\"Num is Negative\")"
   ]
  },
  {
   "cell_type": "code",
   "execution_count": 28,
   "metadata": {
    "collapsed": true
   },
   "outputs": [
    {
     "name": "stdout",
     "output_type": "stream",
     "text": [
      "Enter the Number4\n",
      "Enter the Number3\n",
      "Enter the Operation Numeber2\n",
      "1\n"
     ]
    }
   ],
   "source": [
    "# Calculator using if,else,elif\n",
    "\n",
    "a = (int(input(\"Enter the Number\")))\n",
    "b = (int(input(\"Enter the Number\")))\n",
    "operation = (int(input(\"Enter the Operation Numeber\")))\n",
    "\"\"\"\n",
    "1 for add\n",
    "2 for sub\n",
    "3 for mul\n",
    "4 for divide\n",
    "\"\"\"\n",
    "\n",
    "if(operation == 1):\n",
    "    answer = a+b\n",
    "elif(operation == 2):\n",
    "    answer = a-b\n",
    "elif(operation == 3):\n",
    "    answer = a*b\n",
    "elif(operation == 4):\n",
    "    answer = float(a/b)\n",
    "else:\n",
    "    answer = (\"Wrong number Entered!!\")\n",
    "print(answer)\n"
   ]
  },
  {
   "cell_type": "code",
   "execution_count": 27,
   "metadata": {
    "collapsed": true
   },
   "outputs": [
    {
     "name": "stdout",
     "output_type": "stream",
     "text": [
      "Enter the Number3\n",
      "Enter the Number4\n",
      "Enter the Number5\n",
      "             5 :c is greatest\n"
     ]
    }
   ],
   "source": [
    "# Greatest number among 3\n",
    "\n",
    "a = (int(input(\"Enter the Number\")))\n",
    "b = (int(input(\"Enter the Number\")))\n",
    "c = (int(input(\"Enter the Number\")))\n",
    "\n",
    "if(a > b and a > c):\n",
    "    print(\"            \",a, \":a is greatest\")\n",
    "elif(b > a and b > c):\n",
    "    print(\"            \",b, \":b is greatest\")\n",
    "else:\n",
    "    print(\"            \",c, \":c is greatest\")"
   ]
  },
  {
   "cell_type": "markdown",
   "metadata": {},
   "source": [
    " <H6>PYTHON SECOND LAB</H6>"
   ]
  },
  {
   "cell_type": "code",
   "execution_count": null,
   "metadata": {},
   "outputs": [],
   "source": []
  }
 ],
 "metadata": {
  "kernelspec": {
   "display_name": "Python 3",
   "language": "python",
   "name": "python3"
  },
  "language_info": {
   "codemirror_mode": {
    "name": "ipython",
    "version": 3
   },
   "file_extension": ".py",
   "mimetype": "text/x-python",
   "name": "python",
   "nbconvert_exporter": "python",
   "pygments_lexer": "ipython3",
   "version": "3.6.5"
  }
 },
 "nbformat": 4,
 "nbformat_minor": 2
}
